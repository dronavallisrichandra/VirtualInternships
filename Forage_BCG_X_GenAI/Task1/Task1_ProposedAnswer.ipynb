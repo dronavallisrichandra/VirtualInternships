{
  "nbformat": 4,
  "nbformat_minor": 0,
  "metadata": {
    "colab": {
      "provenance": []
    },
    "kernelspec": {
      "name": "python3",
      "display_name": "Python 3"
    },
    "language_info": {
      "name": "python"
    }
  },
  "cells": [
    {
      "cell_type": "code",
      "execution_count": 3,
      "metadata": {
        "colab": {
          "base_uri": "https://localhost:8080/"
        },
        "id": "47tjCPjyW7Gb",
        "outputId": "39a663a2-f559-4875-c824-e81c6c02beab"
      },
      "outputs": [
        {
          "output_type": "stream",
          "name": "stdout",
          "text": [
            "     Company  Year  Total Revenue  Net Income  Total Assets  \\\n",
            "0  Microsoft  2023         211915       72361        411976   \n",
            "1  Microsoft  2022         198270       72738        364840   \n",
            "2  Microsoft  2021         168088       61271        333779   \n",
            "3      Tesla  2023          96773       14974        106618   \n",
            "4      Tesla  2022          81462       12587         82338   \n",
            "5      Tesla  2021          53823        5644         62131   \n",
            "6      Apple  2023         383285       96995        352583   \n",
            "7      Apple  2022         394328       99803        352755   \n",
            "8      Apple  2021         365817       94680        351002   \n",
            "\n",
            "   Total Liabilities  Operating Activities  Revenue Growth (%)  \\\n",
            "0             205753                 87582            0.000000   \n",
            "1             198298                 89035           -6.438902   \n",
            "2             191791                 76740          -15.222676   \n",
            "3              43009                 13256            0.000000   \n",
            "4              36440                 14724          -15.821562   \n",
            "5              30548                 11497          -33.928703   \n",
            "6             145308                110543            0.000000   \n",
            "7             153982                122151            2.881146   \n",
            "8             125481                104038           -7.230275   \n",
            "\n",
            "   Net Income Growth (%)  \n",
            "0               0.000000  \n",
            "1               0.520999  \n",
            "2             -15.764800  \n",
            "3               0.000000  \n",
            "4             -15.940964  \n",
            "5             -55.160086  \n",
            "6               0.000000  \n",
            "7               2.894995  \n",
            "8              -5.133112  \n",
            "\n",
            "Year-over-Year Average Growth Rates (%):\n",
            "     Company  Revenue Growth (%)  Net Income Growth (%)\n",
            "0      Apple           -1.449710              -0.746039\n",
            "1  Microsoft           -7.220526              -5.081267\n",
            "2      Tesla          -16.583422             -23.700350\n"
          ]
        }
      ],
      "source": [
        "import pandas as pd\n",
        "\n",
        "# Load the data from the Excel spreadsheet\n",
        "file_path = 'GFCdata.xlsx'\n",
        "df = pd.read_excel(file_path)\n",
        "\n",
        "# Calculate year-over-year growth rates for Total Revenue and Net Income\n",
        "df['Revenue Growth (%)'] = df.groupby('Company')['Total Revenue'].pct_change() * 100\n",
        "df['Net Income Growth (%)'] = df.groupby('Company')['Net Income'].pct_change() * 100\n",
        "\n",
        "# Fill NA values that result from pct_change calculations with 0 or an appropriate value\n",
        "df.fillna(0, inplace=True)\n",
        "\n",
        "# Display the dataframe to verify the calculations\n",
        "print(df)\n",
        "\n",
        "# Optionally, you could summarize these findings for each company\n",
        "summary = df.groupby('Company').agg({\n",
        "    'Revenue Growth (%)': 'mean',\n",
        "    'Net Income Growth (%)': 'mean'\n",
        "}).reset_index()\n",
        "\n",
        "print(\"\\nYear-over-Year Average Growth Rates (%):\")\n",
        "print(summary)"
      ]
    },
    {
      "cell_type": "code",
      "source": [],
      "metadata": {
        "id": "UXYtl0pfXHlh"
      },
      "execution_count": null,
      "outputs": []
    }
  ]
}